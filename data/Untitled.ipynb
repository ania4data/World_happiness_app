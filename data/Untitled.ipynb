{
 "cells": [
  {
   "cell_type": "code",
   "execution_count": 59,
   "metadata": {},
   "outputs": [],
   "source": [
    "import numpy as np\n",
    "import pandas as pd\n",
    "\n",
    "keepcolumns_list= ['Country', 'Happiness (Rank)', 'Happiness (Score)', 'Economy (GDP.per.Capita)', 'Family',\n",
    "       'Health (Life.Expectancy)', 'Freedom', 'Generosity',\n",
    "       'Trust (Government.Corruption)', 'Dystopia (Residual)']\n",
    "\n",
    "def cleandata(dataset, year=2017, keepcolumns = keepcolumns_list):\n",
    "    \n",
    "    \n",
    "    df = pd.read_csv(dataset)\n",
    "    if (year == 2017):\n",
    "        dropcolumns = ['Whisker.high', 'Whisker.low']\n",
    "\n",
    "    if (year == 2016):\n",
    "        dropcolumns = ['Region', 'Lower Confidence Interval', 'Upper Confidence Interval']\n",
    "\n",
    "    if (year ==2015):\n",
    "        dropcolumns = ['Region', 'Standard Error']\n",
    "\n",
    "    df.drop(columns = dropcolumns, inplace = True)\n",
    "\n",
    "    df.columns = [col+'_'+str(year)  if col != 'Country' else col for col in keepcolumns]\n",
    "\n",
    "\n",
    "    return df\n",
    "\n",
    "\n",
    "\n",
    "\n",
    "def basic_wrangling():\n",
    "\n",
    "    df_2017 = cleandata(\"2017.csv\", year = 2017)\n",
    "    df_2016 = cleandata(\"2016.csv\", year = 2016)\n",
    "    df_2015 = cleandata(\"2015.csv\", year = 2015)\n",
    "    dfs = [df_2017, df_2016, df_2015]\n",
    "    df_final = reduce(lambda left,right: pd.merge(left,right,on='Country'), dfs)\n",
    "    return df_final"
   ]
  },
  {
   "cell_type": "code",
   "execution_count": 60,
   "metadata": {},
   "outputs": [],
   "source": [
    "df_2017,df_2016,df_2015=basic_wrangling()"
   ]
  },
  {
   "cell_type": "code",
   "execution_count": 61,
   "metadata": {},
   "outputs": [
    {
     "data": {
      "text/plain": [
       "Index(['Country', 'Happiness (Rank)_2017', 'Happiness (Score)_2017',\n",
       "       'Economy (GDP.per.Capita)_2017', 'Family_2017',\n",
       "       'Health (Life.Expectancy)_2017', 'Freedom_2017', 'Generosity_2017',\n",
       "       'Trust (Government.Corruption)_2017', 'Dystopia (Residual)_2017'],\n",
       "      dtype='object')"
      ]
     },
     "execution_count": 61,
     "metadata": {},
     "output_type": "execute_result"
    }
   ],
   "source": [
    "df_2017.columns"
   ]
  },
  {
   "cell_type": "code",
   "execution_count": 62,
   "metadata": {},
   "outputs": [
    {
     "data": {
      "text/plain": [
       "Index(['Country', 'Happiness (Rank)_2016', 'Happiness (Score)_2016',\n",
       "       'Economy (GDP.per.Capita)_2016', 'Family_2016',\n",
       "       'Health (Life.Expectancy)_2016', 'Freedom_2016', 'Generosity_2016',\n",
       "       'Trust (Government.Corruption)_2016', 'Dystopia (Residual)_2016'],\n",
       "      dtype='object')"
      ]
     },
     "execution_count": 62,
     "metadata": {},
     "output_type": "execute_result"
    }
   ],
   "source": [
    "df_2016.columns"
   ]
  },
  {
   "cell_type": "code",
   "execution_count": 63,
   "metadata": {},
   "outputs": [
    {
     "data": {
      "text/plain": [
       "Index(['Country', 'Happiness (Rank)_2015', 'Happiness (Score)_2015',\n",
       "       'Economy (GDP.per.Capita)_2015', 'Family_2015',\n",
       "       'Health (Life.Expectancy)_2015', 'Freedom_2015', 'Generosity_2015',\n",
       "       'Trust (Government.Corruption)_2015', 'Dystopia (Residual)_2015'],\n",
       "      dtype='object')"
      ]
     },
     "execution_count": 63,
     "metadata": {},
     "output_type": "execute_result"
    }
   ],
   "source": [
    "df_2015.columns"
   ]
  },
  {
   "cell_type": "code",
   "execution_count": 64,
   "metadata": {
    "scrolled": true
   },
   "outputs": [
    {
     "data": {
      "text/plain": [
       "(155, 10)"
      ]
     },
     "execution_count": 64,
     "metadata": {},
     "output_type": "execute_result"
    }
   ],
   "source": [
    "df_2017.shape"
   ]
  },
  {
   "cell_type": "code",
   "execution_count": 66,
   "metadata": {},
   "outputs": [],
   "source": [
    "from functools import reduce\n",
    "dfs = [df_2017, df_2016, df_2015]\n",
    "df_final = reduce(lambda left,right: pd.merge(left,right,on='Country'), dfs)"
   ]
  },
  {
   "cell_type": "code",
   "execution_count": 67,
   "metadata": {
    "scrolled": true
   },
   "outputs": [
    {
     "data": {
      "text/html": [
       "<div>\n",
       "<style scoped>\n",
       "    .dataframe tbody tr th:only-of-type {\n",
       "        vertical-align: middle;\n",
       "    }\n",
       "\n",
       "    .dataframe tbody tr th {\n",
       "        vertical-align: top;\n",
       "    }\n",
       "\n",
       "    .dataframe thead th {\n",
       "        text-align: right;\n",
       "    }\n",
       "</style>\n",
       "<table border=\"1\" class=\"dataframe\">\n",
       "  <thead>\n",
       "    <tr style=\"text-align: right;\">\n",
       "      <th></th>\n",
       "      <th>Country</th>\n",
       "      <th>Happiness (Rank)_2017</th>\n",
       "      <th>Happiness (Score)_2017</th>\n",
       "      <th>Economy (GDP.per.Capita)_2017</th>\n",
       "      <th>Family_2017</th>\n",
       "      <th>Health (Life.Expectancy)_2017</th>\n",
       "      <th>Freedom_2017</th>\n",
       "      <th>Generosity_2017</th>\n",
       "      <th>Trust (Government.Corruption)_2017</th>\n",
       "      <th>Dystopia (Residual)_2017</th>\n",
       "      <th>...</th>\n",
       "      <th>Dystopia (Residual)_2016</th>\n",
       "      <th>Happiness (Rank)_2015</th>\n",
       "      <th>Happiness (Score)_2015</th>\n",
       "      <th>Economy (GDP.per.Capita)_2015</th>\n",
       "      <th>Family_2015</th>\n",
       "      <th>Health (Life.Expectancy)_2015</th>\n",
       "      <th>Freedom_2015</th>\n",
       "      <th>Generosity_2015</th>\n",
       "      <th>Trust (Government.Corruption)_2015</th>\n",
       "      <th>Dystopia (Residual)_2015</th>\n",
       "    </tr>\n",
       "  </thead>\n",
       "  <tbody>\n",
       "    <tr>\n",
       "      <th>0</th>\n",
       "      <td>Norway</td>\n",
       "      <td>1</td>\n",
       "      <td>7.537</td>\n",
       "      <td>1.616463</td>\n",
       "      <td>1.533524</td>\n",
       "      <td>0.796667</td>\n",
       "      <td>0.635423</td>\n",
       "      <td>0.362012</td>\n",
       "      <td>0.315964</td>\n",
       "      <td>2.277027</td>\n",
       "      <td>...</td>\n",
       "      <td>2.66465</td>\n",
       "      <td>4</td>\n",
       "      <td>7.522</td>\n",
       "      <td>1.45900</td>\n",
       "      <td>1.33095</td>\n",
       "      <td>0.88521</td>\n",
       "      <td>0.66973</td>\n",
       "      <td>0.36503</td>\n",
       "      <td>0.34699</td>\n",
       "      <td>2.46531</td>\n",
       "    </tr>\n",
       "    <tr>\n",
       "      <th>1</th>\n",
       "      <td>Denmark</td>\n",
       "      <td>2</td>\n",
       "      <td>7.522</td>\n",
       "      <td>1.482383</td>\n",
       "      <td>1.551122</td>\n",
       "      <td>0.792566</td>\n",
       "      <td>0.626007</td>\n",
       "      <td>0.355280</td>\n",
       "      <td>0.400770</td>\n",
       "      <td>2.313707</td>\n",
       "      <td>...</td>\n",
       "      <td>2.73939</td>\n",
       "      <td>3</td>\n",
       "      <td>7.527</td>\n",
       "      <td>1.32548</td>\n",
       "      <td>1.36058</td>\n",
       "      <td>0.87464</td>\n",
       "      <td>0.64938</td>\n",
       "      <td>0.48357</td>\n",
       "      <td>0.34139</td>\n",
       "      <td>2.49204</td>\n",
       "    </tr>\n",
       "    <tr>\n",
       "      <th>2</th>\n",
       "      <td>Iceland</td>\n",
       "      <td>3</td>\n",
       "      <td>7.504</td>\n",
       "      <td>1.480633</td>\n",
       "      <td>1.610574</td>\n",
       "      <td>0.833552</td>\n",
       "      <td>0.627163</td>\n",
       "      <td>0.475540</td>\n",
       "      <td>0.153527</td>\n",
       "      <td>2.322715</td>\n",
       "      <td>...</td>\n",
       "      <td>2.83137</td>\n",
       "      <td>2</td>\n",
       "      <td>7.561</td>\n",
       "      <td>1.30232</td>\n",
       "      <td>1.40223</td>\n",
       "      <td>0.94784</td>\n",
       "      <td>0.62877</td>\n",
       "      <td>0.14145</td>\n",
       "      <td>0.43630</td>\n",
       "      <td>2.70201</td>\n",
       "    </tr>\n",
       "    <tr>\n",
       "      <th>3</th>\n",
       "      <td>Switzerland</td>\n",
       "      <td>4</td>\n",
       "      <td>7.494</td>\n",
       "      <td>1.564980</td>\n",
       "      <td>1.516912</td>\n",
       "      <td>0.858131</td>\n",
       "      <td>0.620071</td>\n",
       "      <td>0.290549</td>\n",
       "      <td>0.367007</td>\n",
       "      <td>2.276716</td>\n",
       "      <td>...</td>\n",
       "      <td>2.69463</td>\n",
       "      <td>1</td>\n",
       "      <td>7.587</td>\n",
       "      <td>1.39651</td>\n",
       "      <td>1.34951</td>\n",
       "      <td>0.94143</td>\n",
       "      <td>0.66557</td>\n",
       "      <td>0.41978</td>\n",
       "      <td>0.29678</td>\n",
       "      <td>2.51738</td>\n",
       "    </tr>\n",
       "    <tr>\n",
       "      <th>4</th>\n",
       "      <td>Finland</td>\n",
       "      <td>5</td>\n",
       "      <td>7.469</td>\n",
       "      <td>1.443572</td>\n",
       "      <td>1.540247</td>\n",
       "      <td>0.809158</td>\n",
       "      <td>0.617951</td>\n",
       "      <td>0.245483</td>\n",
       "      <td>0.382612</td>\n",
       "      <td>2.430182</td>\n",
       "      <td>...</td>\n",
       "      <td>2.82596</td>\n",
       "      <td>6</td>\n",
       "      <td>7.406</td>\n",
       "      <td>1.29025</td>\n",
       "      <td>1.31826</td>\n",
       "      <td>0.88911</td>\n",
       "      <td>0.64169</td>\n",
       "      <td>0.41372</td>\n",
       "      <td>0.23351</td>\n",
       "      <td>2.61955</td>\n",
       "    </tr>\n",
       "  </tbody>\n",
       "</table>\n",
       "<p>5 rows × 28 columns</p>\n",
       "</div>"
      ],
      "text/plain": [
       "       Country  Happiness (Rank)_2017  Happiness (Score)_2017  \\\n",
       "0       Norway                      1                   7.537   \n",
       "1      Denmark                      2                   7.522   \n",
       "2      Iceland                      3                   7.504   \n",
       "3  Switzerland                      4                   7.494   \n",
       "4      Finland                      5                   7.469   \n",
       "\n",
       "   Economy (GDP.per.Capita)_2017  Family_2017  Health (Life.Expectancy)_2017  \\\n",
       "0                       1.616463     1.533524                       0.796667   \n",
       "1                       1.482383     1.551122                       0.792566   \n",
       "2                       1.480633     1.610574                       0.833552   \n",
       "3                       1.564980     1.516912                       0.858131   \n",
       "4                       1.443572     1.540247                       0.809158   \n",
       "\n",
       "   Freedom_2017  Generosity_2017  Trust (Government.Corruption)_2017  \\\n",
       "0      0.635423         0.362012                            0.315964   \n",
       "1      0.626007         0.355280                            0.400770   \n",
       "2      0.627163         0.475540                            0.153527   \n",
       "3      0.620071         0.290549                            0.367007   \n",
       "4      0.617951         0.245483                            0.382612   \n",
       "\n",
       "   Dystopia (Residual)_2017            ...             \\\n",
       "0                  2.277027            ...              \n",
       "1                  2.313707            ...              \n",
       "2                  2.322715            ...              \n",
       "3                  2.276716            ...              \n",
       "4                  2.430182            ...              \n",
       "\n",
       "   Dystopia (Residual)_2016  Happiness (Rank)_2015  Happiness (Score)_2015  \\\n",
       "0                   2.66465                      4                   7.522   \n",
       "1                   2.73939                      3                   7.527   \n",
       "2                   2.83137                      2                   7.561   \n",
       "3                   2.69463                      1                   7.587   \n",
       "4                   2.82596                      6                   7.406   \n",
       "\n",
       "   Economy (GDP.per.Capita)_2015  Family_2015  Health (Life.Expectancy)_2015  \\\n",
       "0                        1.45900      1.33095                        0.88521   \n",
       "1                        1.32548      1.36058                        0.87464   \n",
       "2                        1.30232      1.40223                        0.94784   \n",
       "3                        1.39651      1.34951                        0.94143   \n",
       "4                        1.29025      1.31826                        0.88911   \n",
       "\n",
       "   Freedom_2015  Generosity_2015  Trust (Government.Corruption)_2015  \\\n",
       "0       0.66973          0.36503                             0.34699   \n",
       "1       0.64938          0.48357                             0.34139   \n",
       "2       0.62877          0.14145                             0.43630   \n",
       "3       0.66557          0.41978                             0.29678   \n",
       "4       0.64169          0.41372                             0.23351   \n",
       "\n",
       "   Dystopia (Residual)_2015  \n",
       "0                   2.46531  \n",
       "1                   2.49204  \n",
       "2                   2.70201  \n",
       "3                   2.51738  \n",
       "4                   2.61955  \n",
       "\n",
       "[5 rows x 28 columns]"
      ]
     },
     "execution_count": 67,
     "metadata": {},
     "output_type": "execute_result"
    }
   ],
   "source": [
    "df_final.head()"
   ]
  },
  {
   "cell_type": "code",
   "execution_count": 69,
   "metadata": {},
   "outputs": [
    {
     "data": {
      "text/plain": [
       "(146, 28)"
      ]
     },
     "execution_count": 69,
     "metadata": {},
     "output_type": "execute_result"
    }
   ],
   "source": [
    "df_final.shape"
   ]
  },
  {
   "cell_type": "code",
   "execution_count": 75,
   "metadata": {},
   "outputs": [
    {
     "data": {
      "text/plain": [
       "Country                                object\n",
       "Happiness (Rank)_2017                   int64\n",
       "Happiness (Score)_2017                float64\n",
       "Economy (GDP.per.Capita)_2017         float64\n",
       "Family_2017                           float64\n",
       "Health (Life.Expectancy)_2017         float64\n",
       "Freedom_2017                          float64\n",
       "Generosity_2017                       float64\n",
       "Trust (Government.Corruption)_2017    float64\n",
       "Dystopia (Residual)_2017              float64\n",
       "Happiness (Rank)_2016                   int64\n",
       "Happiness (Score)_2016                float64\n",
       "Economy (GDP.per.Capita)_2016         float64\n",
       "Family_2016                           float64\n",
       "Health (Life.Expectancy)_2016         float64\n",
       "Freedom_2016                          float64\n",
       "Generosity_2016                       float64\n",
       "Trust (Government.Corruption)_2016    float64\n",
       "Dystopia (Residual)_2016              float64\n",
       "Happiness (Rank)_2015                   int64\n",
       "Happiness (Score)_2015                float64\n",
       "Economy (GDP.per.Capita)_2015         float64\n",
       "Family_2015                           float64\n",
       "Health (Life.Expectancy)_2015         float64\n",
       "Freedom_2015                          float64\n",
       "Generosity_2015                       float64\n",
       "Trust (Government.Corruption)_2015    float64\n",
       "Dystopia (Residual)_2015              float64\n",
       "dtype: object"
      ]
     },
     "execution_count": 75,
     "metadata": {},
     "output_type": "execute_result"
    }
   ],
   "source": [
    "df_final.dtypes"
   ]
  },
  {
   "cell_type": "code",
   "execution_count": 68,
   "metadata": {},
   "outputs": [
    {
     "data": {
      "text/plain": [
       "Country                               0\n",
       "Happiness (Rank)_2017                 0\n",
       "Happiness (Score)_2017                0\n",
       "Economy (GDP.per.Capita)_2017         0\n",
       "Family_2017                           0\n",
       "Health (Life.Expectancy)_2017         0\n",
       "Freedom_2017                          0\n",
       "Generosity_2017                       0\n",
       "Trust (Government.Corruption)_2017    0\n",
       "Dystopia (Residual)_2017              0\n",
       "Happiness (Rank)_2016                 0\n",
       "Happiness (Score)_2016                0\n",
       "Economy (GDP.per.Capita)_2016         0\n",
       "Family_2016                           0\n",
       "Health (Life.Expectancy)_2016         0\n",
       "Freedom_2016                          0\n",
       "Generosity_2016                       0\n",
       "Trust (Government.Corruption)_2016    0\n",
       "Dystopia (Residual)_2016              0\n",
       "Happiness (Rank)_2015                 0\n",
       "Happiness (Score)_2015                0\n",
       "Economy (GDP.per.Capita)_2015         0\n",
       "Family_2015                           0\n",
       "Health (Life.Expectancy)_2015         0\n",
       "Freedom_2015                          0\n",
       "Generosity_2015                       0\n",
       "Trust (Government.Corruption)_2015    0\n",
       "Dystopia (Residual)_2015              0\n",
       "dtype: int64"
      ]
     },
     "execution_count": 68,
     "metadata": {},
     "output_type": "execute_result"
    }
   ],
   "source": [
    "df_final.isnull().sum()"
   ]
  },
  {
   "cell_type": "code",
   "execution_count": 6,
   "metadata": {},
   "outputs": [
    {
     "data": {
      "text/plain": [
       "Index(['Country', 'Region', 'Happiness Rank', 'Happiness Score',\n",
       "       'Lower Confidence Interval', 'Upper Confidence Interval',\n",
       "       'Economy (GDP per Capita)', 'Family', 'Health (Life Expectancy)',\n",
       "       'Freedom', 'Trust (Government Corruption)', 'Generosity',\n",
       "       'Dystopia Residual'],\n",
       "      dtype='object')"
      ]
     },
     "execution_count": 6,
     "metadata": {},
     "output_type": "execute_result"
    }
   ],
   "source": [
    "df_2016.columns"
   ]
  },
  {
   "cell_type": "code",
   "execution_count": 5,
   "metadata": {},
   "outputs": [
    {
     "ename": "KeyError",
     "evalue": "\"['Happiness.Rank' 'Happiness.Score' 'Economy..GDP.per.Capita.'\\n 'Health..Life.Expectancy.' 'Trust..Government.Corruption.'\\n 'Dystopia.Residual'] not in index\"",
     "output_type": "error",
     "traceback": [
      "\u001b[0;31m---------------------------------------------------------------------------\u001b[0m",
      "\u001b[0;31mKeyError\u001b[0m                                  Traceback (most recent call last)",
      "\u001b[0;32m<ipython-input-5-491b4190aa4b>\u001b[0m in \u001b[0;36m<module>\u001b[0;34m()\u001b[0m\n\u001b[0;32m----> 1\u001b[0;31m \u001b[0mdf_2016\u001b[0m\u001b[0;34m[\u001b[0m\u001b[0mkeepcolumns_list\u001b[0m\u001b[0;34m]\u001b[0m\u001b[0;34m\u001b[0m\u001b[0m\n\u001b[0m",
      "\u001b[0;32m~/anaconda3/lib/python3.6/site-packages/pandas/core/frame.py\u001b[0m in \u001b[0;36m__getitem__\u001b[0;34m(self, key)\u001b[0m\n\u001b[1;32m   2677\u001b[0m         \u001b[0;32mif\u001b[0m \u001b[0misinstance\u001b[0m\u001b[0;34m(\u001b[0m\u001b[0mkey\u001b[0m\u001b[0;34m,\u001b[0m \u001b[0;34m(\u001b[0m\u001b[0mSeries\u001b[0m\u001b[0;34m,\u001b[0m \u001b[0mnp\u001b[0m\u001b[0;34m.\u001b[0m\u001b[0mndarray\u001b[0m\u001b[0;34m,\u001b[0m \u001b[0mIndex\u001b[0m\u001b[0;34m,\u001b[0m \u001b[0mlist\u001b[0m\u001b[0;34m)\u001b[0m\u001b[0;34m)\u001b[0m\u001b[0;34m:\u001b[0m\u001b[0;34m\u001b[0m\u001b[0m\n\u001b[1;32m   2678\u001b[0m             \u001b[0;31m# either boolean or fancy integer index\u001b[0m\u001b[0;34m\u001b[0m\u001b[0;34m\u001b[0m\u001b[0m\n\u001b[0;32m-> 2679\u001b[0;31m             \u001b[0;32mreturn\u001b[0m \u001b[0mself\u001b[0m\u001b[0;34m.\u001b[0m\u001b[0m_getitem_array\u001b[0m\u001b[0;34m(\u001b[0m\u001b[0mkey\u001b[0m\u001b[0;34m)\u001b[0m\u001b[0;34m\u001b[0m\u001b[0m\n\u001b[0m\u001b[1;32m   2680\u001b[0m         \u001b[0;32melif\u001b[0m \u001b[0misinstance\u001b[0m\u001b[0;34m(\u001b[0m\u001b[0mkey\u001b[0m\u001b[0;34m,\u001b[0m \u001b[0mDataFrame\u001b[0m\u001b[0;34m)\u001b[0m\u001b[0;34m:\u001b[0m\u001b[0;34m\u001b[0m\u001b[0m\n\u001b[1;32m   2681\u001b[0m             \u001b[0;32mreturn\u001b[0m \u001b[0mself\u001b[0m\u001b[0;34m.\u001b[0m\u001b[0m_getitem_frame\u001b[0m\u001b[0;34m(\u001b[0m\u001b[0mkey\u001b[0m\u001b[0;34m)\u001b[0m\u001b[0;34m\u001b[0m\u001b[0m\n",
      "\u001b[0;32m~/anaconda3/lib/python3.6/site-packages/pandas/core/frame.py\u001b[0m in \u001b[0;36m_getitem_array\u001b[0;34m(self, key)\u001b[0m\n\u001b[1;32m   2721\u001b[0m             \u001b[0;32mreturn\u001b[0m \u001b[0mself\u001b[0m\u001b[0;34m.\u001b[0m\u001b[0m_take\u001b[0m\u001b[0;34m(\u001b[0m\u001b[0mindexer\u001b[0m\u001b[0;34m,\u001b[0m \u001b[0maxis\u001b[0m\u001b[0;34m=\u001b[0m\u001b[0;36m0\u001b[0m\u001b[0;34m)\u001b[0m\u001b[0;34m\u001b[0m\u001b[0m\n\u001b[1;32m   2722\u001b[0m         \u001b[0;32melse\u001b[0m\u001b[0;34m:\u001b[0m\u001b[0;34m\u001b[0m\u001b[0m\n\u001b[0;32m-> 2723\u001b[0;31m             \u001b[0mindexer\u001b[0m \u001b[0;34m=\u001b[0m \u001b[0mself\u001b[0m\u001b[0;34m.\u001b[0m\u001b[0mloc\u001b[0m\u001b[0;34m.\u001b[0m\u001b[0m_convert_to_indexer\u001b[0m\u001b[0;34m(\u001b[0m\u001b[0mkey\u001b[0m\u001b[0;34m,\u001b[0m \u001b[0maxis\u001b[0m\u001b[0;34m=\u001b[0m\u001b[0;36m1\u001b[0m\u001b[0;34m)\u001b[0m\u001b[0;34m\u001b[0m\u001b[0m\n\u001b[0m\u001b[1;32m   2724\u001b[0m             \u001b[0;32mreturn\u001b[0m \u001b[0mself\u001b[0m\u001b[0;34m.\u001b[0m\u001b[0m_take\u001b[0m\u001b[0;34m(\u001b[0m\u001b[0mindexer\u001b[0m\u001b[0;34m,\u001b[0m \u001b[0maxis\u001b[0m\u001b[0;34m=\u001b[0m\u001b[0;36m1\u001b[0m\u001b[0;34m)\u001b[0m\u001b[0;34m\u001b[0m\u001b[0m\n\u001b[1;32m   2725\u001b[0m \u001b[0;34m\u001b[0m\u001b[0m\n",
      "\u001b[0;32m~/anaconda3/lib/python3.6/site-packages/pandas/core/indexing.py\u001b[0m in \u001b[0;36m_convert_to_indexer\u001b[0;34m(self, obj, axis, is_setter)\u001b[0m\n\u001b[1;32m   1325\u001b[0m                 \u001b[0;32mif\u001b[0m \u001b[0mmask\u001b[0m\u001b[0;34m.\u001b[0m\u001b[0many\u001b[0m\u001b[0;34m(\u001b[0m\u001b[0;34m)\u001b[0m\u001b[0;34m:\u001b[0m\u001b[0;34m\u001b[0m\u001b[0m\n\u001b[1;32m   1326\u001b[0m                     raise KeyError('{mask} not in index'\n\u001b[0;32m-> 1327\u001b[0;31m                                    .format(mask=objarr[mask]))\n\u001b[0m\u001b[1;32m   1328\u001b[0m \u001b[0;34m\u001b[0m\u001b[0m\n\u001b[1;32m   1329\u001b[0m                 \u001b[0;32mreturn\u001b[0m \u001b[0mcom\u001b[0m\u001b[0;34m.\u001b[0m\u001b[0m_values_from_object\u001b[0m\u001b[0;34m(\u001b[0m\u001b[0mindexer\u001b[0m\u001b[0;34m)\u001b[0m\u001b[0;34m\u001b[0m\u001b[0m\n",
      "\u001b[0;31mKeyError\u001b[0m: \"['Happiness.Rank' 'Happiness.Score' 'Economy..GDP.per.Capita.'\\n 'Health..Life.Expectancy.' 'Trust..Government.Corruption.'\\n 'Dystopia.Residual'] not in index\""
     ]
    }
   ],
   "source": [
    "df_2016[keepcolumns_list]"
   ]
  },
  {
   "cell_type": "code",
   "execution_count": null,
   "metadata": {},
   "outputs": [],
   "source": []
  }
 ],
 "metadata": {
  "kernelspec": {
   "display_name": "Python 3",
   "language": "python",
   "name": "python3"
  },
  "language_info": {
   "codemirror_mode": {
    "name": "ipython",
    "version": 3
   },
   "file_extension": ".py",
   "mimetype": "text/x-python",
   "name": "python",
   "nbconvert_exporter": "python",
   "pygments_lexer": "ipython3",
   "version": "3.6.5"
  }
 },
 "nbformat": 4,
 "nbformat_minor": 2
}
